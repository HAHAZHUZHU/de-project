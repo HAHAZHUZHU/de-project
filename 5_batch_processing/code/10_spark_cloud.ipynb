{
 "cells": [
  {
   "cell_type": "code",
   "execution_count": 1,
   "id": "a7fc2f06-5271-4b32-9b46-73fe196a4486",
   "metadata": {},
   "outputs": [],
   "source": [
    "import pyspark\n",
    "from pyspark.sql import SparkSession"
   ]
  },
  {
   "cell_type": "code",
   "execution_count": 2,
   "id": "c2c74d92-1220-441f-87d3-6d8716279b1d",
   "metadata": {},
   "outputs": [
    {
     "name": "stderr",
     "output_type": "stream",
     "text": [
      "Setting default log level to \"WARN\".\n",
      "To adjust logging level use sc.setLogLevel(newLevel). For SparkR, use setLogLevel(newLevel).\n",
      "24/04/23 16:50:47 WARN NativeCodeLoader: Unable to load native-hadoop library for your platform... using builtin-java classes where applicable\n",
      "24/04/23 16:51:05 WARN GarbageCollectionMetrics: To enable non-built-in garbage collector(s) List(G1 Concurrent GC), users should configure it(them) to spark.eventLog.gcMetrics.youngGenerationGarbageCollectors or spark.eventLog.gcMetrics.oldGenerationGarbageCollectors\n"
     ]
    }
   ],
   "source": [
    "spark = SparkSession.builder \\\n",
    "        .master(\"spark://ruizhusacStudio:7077\") \\\n",
    "        .appName('test') \\\n",
    "        .getOrCreate()"
   ]
  },
  {
   "cell_type": "code",
   "execution_count": 3,
   "id": "c182cdcf-02b8-456d-8332-154bb3e8393e",
   "metadata": {},
   "outputs": [],
   "source": [
    "df_green = spark.read.parquet('data/pq/green/*/*')"
   ]
  },
  {
   "cell_type": "code",
   "execution_count": 5,
   "id": "94196433-861f-45c1-919a-f624363ed967",
   "metadata": {},
   "outputs": [],
   "source": [
    "df_yellow = spark.read.parquet('data/pq/yellow/*/*')"
   ]
  },
  {
   "cell_type": "code",
   "execution_count": 11,
   "id": "0d2d7d0b-72db-4c65-8ab1-64ada424e106",
   "metadata": {},
   "outputs": [],
   "source": [
    "df_green = df_green \\\n",
    "            .withColumnRenamed('lpep_pickup_datetime', 'pickup_datetime') \\\n",
    "            .withColumnRenamed('lpep_dropoff_datetime', 'dropoff_datetime')\n"
   ]
  },
  {
   "cell_type": "code",
   "execution_count": 14,
   "id": "061afccc-6496-4123-8751-0e5dd33a7846",
   "metadata": {},
   "outputs": [],
   "source": [
    "df_yellow = df_yellow \\\n",
    "            .withColumnRenamed('tpep_pickup_datetime', 'pickup_datetime') \\\n",
    "            .withColumnRenamed('tpep_dropoff_datetime', 'dropoff_datetime')"
   ]
  },
  {
   "cell_type": "code",
   "execution_count": 17,
   "id": "c6134d64-a854-4a31-bb33-f9d24f61879a",
   "metadata": {},
   "outputs": [],
   "source": [
    "common_cloums = []\n",
    "\n",
    "yellow_columns = set(df_yellow.columns)\n",
    "\n",
    "for col in df_green.columns:\n",
    "    if col in yellow_columns:\n",
    "        common_cloums.append(col)"
   ]
  },
  {
   "cell_type": "code",
   "execution_count": 22,
   "id": "ba92f0ae-7ab0-4a47-b316-816a62154eb5",
   "metadata": {},
   "outputs": [],
   "source": [
    "from pyspark.sql import functions as F"
   ]
  },
  {
   "cell_type": "code",
   "execution_count": 28,
   "id": "0437947c-9603-4550-97d7-c953d4995a4c",
   "metadata": {},
   "outputs": [],
   "source": [
    "df_green_sel = df_green\\\n",
    "                .select(common_cloums)\\\n",
    "                .withColumn('service_type', F.lit('green'))"
   ]
  },
  {
   "cell_type": "code",
   "execution_count": 31,
   "id": "dab5217e-1643-4520-bc4c-6882fc75e49d",
   "metadata": {},
   "outputs": [],
   "source": [
    "df_yellow_sel = df_yellow\\\n",
    "                .select(common_cloums)\\\n",
    "                .withColumn('service_type', F.lit('yellow'))"
   ]
  },
  {
   "cell_type": "code",
   "execution_count": 33,
   "id": "50cba1aa-94e1-49f1-b4a9-7231da3ec060",
   "metadata": {},
   "outputs": [],
   "source": [
    "df_trips_data = df_green_sel.unionAll(df_yellow_sel)"
   ]
  },
  {
   "cell_type": "code",
   "execution_count": 35,
   "id": "98adf845-c834-433f-911b-f4c4e372cb2d",
   "metadata": {},
   "outputs": [],
   "source": [
    "df_trips_data.createOrReplaceTempView('trips_data')"
   ]
  },
  {
   "cell_type": "code",
   "execution_count": 39,
   "id": "9d8b0955-2ddd-4d79-9397-e3f2a986a898",
   "metadata": {},
   "outputs": [
    {
     "name": "stdout",
     "output_type": "stream",
     "text": [
      "+------------+--------+\n",
      "|service_type|count(1)|\n",
      "+------------+--------+\n",
      "|       green| 2304517|\n",
      "|      yellow|39649199|\n",
      "+------------+--------+\n",
      "\n"
     ]
    }
   ],
   "source": [
    "spark.sql('''\n",
    "SELECT \n",
    "    service_type,\n",
    "    count(*)\n",
    "FROM\n",
    "    trips_data\n",
    "GROUP BY\n",
    "    service_type\n",
    "''').show()"
   ]
  },
  {
   "cell_type": "code",
   "execution_count": 40,
   "id": "442fc478-4834-45f3-87c4-49684458ea90",
   "metadata": {},
   "outputs": [],
   "source": [
    "df_result = spark.sql(\"\"\"\n",
    "SELECT \n",
    "    -- Reveneue grouping \n",
    "    PULocationID AS revenue_zone,\n",
    "    date_trunc('month', pickup_datetime) AS revenue_month, \n",
    "    service_type, \n",
    "\n",
    "    -- Revenue calculation \n",
    "    SUM(fare_amount) AS revenue_monthly_fare,\n",
    "    SUM(extra) AS revenue_monthly_extra,\n",
    "    SUM(mta_tax) AS revenue_monthly_mta_tax,\n",
    "    SUM(tip_amount) AS revenue_monthly_tip_amount,\n",
    "    SUM(tolls_amount) AS revenue_monthly_tolls_amount,\n",
    "    SUM(improvement_surcharge) AS revenue_monthly_improvement_surcharge,\n",
    "    SUM(total_amount) AS revenue_monthly_total_amount,\n",
    "    SUM(congestion_surcharge) AS revenue_monthly_congestion_surcharge,\n",
    "\n",
    "    -- Additional calculations\n",
    "    AVG(passenger_count) AS avg_montly_passenger_count,\n",
    "    AVG(trip_distance) AS avg_montly_trip_distance\n",
    "FROM\n",
    "    trips_data\n",
    "GROUP BY\n",
    "    1, 2, 3\n",
    "\"\"\")"
   ]
  },
  {
   "cell_type": "code",
   "execution_count": 41,
   "id": "d769a8c0-ca8b-4c22-9c33-625edde222d3",
   "metadata": {},
   "outputs": [
    {
     "name": "stderr",
     "output_type": "stream",
     "text": [
      "                                                                                \r"
     ]
    }
   ],
   "source": [
    "df_result.coalesce(1).write.parquet('data/report/revenue/', mode='overwrite')"
   ]
  },
  {
   "cell_type": "code",
   "execution_count": 32,
   "id": "b1d41dac-fa71-4f5e-b560-947fad30ead9",
   "metadata": {},
   "outputs": [
    {
     "name": "stdout",
     "output_type": "stream",
     "text": [
      "+--------+-------------------+-------------------+------------------+----------+------------+------------+---------------+-------------+-----------+-----+-------+----------+------------+---------------------+------------+------------+--------------------+------------+\n",
      "|VendorID|    pickup_datetime|   dropoff_datetime|store_and_fwd_flag|RatecodeID|PULocationID|DOLocationID|passenger_count|trip_distance|fare_amount|extra|mta_tax|tip_amount|tolls_amount|improvement_surcharge|total_amount|payment_type|congestion_surcharge|service_type|\n",
      "+--------+-------------------+-------------------+------------------+----------+------------+------------+---------------+-------------+-----------+-----+-------+----------+------------+---------------------+------------+------------+--------------------+------------+\n",
      "|       2|2020-01-29 13:42:10|2020-01-29 13:48:24|                 N|         1|           7|         193|              3|         0.91|        6.0|  0.0|    0.5|      1.36|         0.0|                  0.3|        8.16|           1|                 0.0|       green|\n",
      "|       2|2020-01-24 17:39:13|2020-01-24 17:49:10|                 N|         1|         181|         257|              1|         1.79|        8.5|  1.0|    0.5|       0.0|         0.0|                  0.3|        10.3|           2|                 0.0|       green|\n",
      "|       2|2020-01-27 09:14:48|2020-01-27 09:15:35|                 N|         1|         207|         207|              1|          0.0|        2.5|  0.0|    0.5|       0.0|         0.0|                  0.3|         3.3|           2|                 0.0|       green|\n",
      "|       2|2020-01-07 16:13:20|2020-01-07 16:26:45|                 N|         1|          97|         189|              2|         1.41|        9.5|  1.0|    0.5|      2.26|         0.0|                  0.3|       13.56|           1|                 0.0|       green|\n",
      "|       2|2020-01-03 08:05:40|2020-01-03 08:17:11|                 N|         1|         260|           7|              3|         1.47|        9.0|  0.0|    0.5|       0.0|         0.0|                  0.3|         9.8|           2|                 0.0|       green|\n",
      "|       2|2020-01-29 22:02:13|2020-01-29 22:08:55|                 N|         1|         129|          82|              1|         0.81|        5.5|  0.5|    0.5|       0.0|         0.0|                  0.3|         6.8|           2|                 0.0|       green|\n",
      "|    NULL|2020-01-10 16:15:00|2020-01-10 16:42:00|              NULL|      NULL|          25|         188|           NULL|         3.73|       14.6|  0.0|    0.0|       0.0|         0.0|                  0.3|        14.9|        NULL|                NULL|       green|\n",
      "|       2|2020-01-31 10:51:35|2020-01-31 11:04:40|                 N|         1|          74|          41|              1|         1.76|       10.0|  0.0|    0.5|       0.0|         0.0|                  0.3|        10.8|           2|                 0.0|       green|\n",
      "|       2|2020-01-21 15:54:44|2020-01-21 16:04:15|                 N|         1|          41|          74|              1|         0.99|        7.5|  0.0|    0.5|       0.0|         0.0|                  0.3|         8.3|           2|                 0.0|       green|\n",
      "|    NULL|2020-01-28 11:22:00|2020-01-28 11:36:00|              NULL|      NULL|         242|          31|           NULL|         2.89|      22.93| 2.75|    0.5|       0.0|         0.0|                  0.3|       26.48|        NULL|                NULL|       green|\n",
      "|       2|2020-01-27 22:24:24|2020-01-27 22:38:48|                 N|         1|          95|         121|              1|         2.86|       12.5|  0.5|    0.5|       0.0|         0.0|                  0.3|        13.8|           2|                 0.0|       green|\n",
      "|    NULL|2020-01-09 12:31:00|2020-01-09 12:35:00|              NULL|      NULL|          76|          76|           NULL|         0.37|        8.0|  0.0|    0.5|       0.0|         0.0|                  0.3|         8.8|        NULL|                NULL|       green|\n",
      "|       2|2020-01-13 15:56:03|2020-01-13 16:18:50|                 N|         1|         116|         142|              1|         4.89|       20.5|  1.0|    0.5|       2.5|         0.0|                  0.3|       27.55|           1|                2.75|       green|\n",
      "|       1|2020-01-11 13:05:42|2020-01-11 13:09:18|                 N|         1|          24|         166|              1|          0.6|        4.5|  0.0|    0.5|       0.0|         0.0|                  0.3|         5.3|           2|                 0.0|       green|\n",
      "|       2|2020-01-22 21:21:42|2020-01-22 21:24:23|                 N|         1|          41|          74|              1|         0.64|        4.5|  0.5|    0.5|       2.0|         0.0|                  0.3|         7.8|           1|                 0.0|       green|\n",
      "|    NULL|2020-01-29 21:41:00|2020-01-29 21:54:00|              NULL|      NULL|          74|          69|           NULL|         2.95|      20.34| 2.75|    0.0|       0.0|         0.0|                  0.3|       23.39|        NULL|                NULL|       green|\n",
      "|       2|2020-01-31 16:42:42|2020-01-31 17:04:19|                 N|         1|         260|          82|              1|         1.48|       13.5|  1.0|    0.5|       0.0|         0.0|                  0.3|        15.3|           2|                 0.0|       green|\n",
      "|       2|2020-01-07 15:33:21|2020-01-07 15:42:54|                 N|         1|           7|         226|              1|         1.14|        8.0|  0.0|    0.5|       2.2|         0.0|                  0.3|        11.0|           1|                 0.0|       green|\n",
      "|       2|2020-01-12 00:57:58|2020-01-12 01:02:30|                 N|         1|         166|         151|              1|         0.76|        5.0|  0.5|    0.5|       0.0|         0.0|                  0.3|         6.3|           2|                 0.0|       green|\n",
      "|       2|2020-01-04 18:32:15|2020-01-04 18:39:26|                 N|         1|         223|         223|              5|         0.81|        6.0|  0.0|    0.5|      1.36|         0.0|                  0.3|        8.16|           1|                 0.0|       green|\n",
      "+--------+-------------------+-------------------+------------------+----------+------------+------------+---------------+-------------+-----------+-----+-------+----------+------------+---------------------+------------+------------+--------------------+------------+\n",
      "only showing top 20 rows\n",
      "\n"
     ]
    }
   ],
   "source": [
    "df_green_sel.show()"
   ]
  },
  {
   "cell_type": "code",
   "execution_count": null,
   "id": "4195b757-7a49-46ed-954f-46a48184ac09",
   "metadata": {},
   "outputs": [],
   "source": []
  }
 ],
 "metadata": {
  "kernelspec": {
   "display_name": "Python 3 (ipykernel)",
   "language": "python",
   "name": "python3"
  },
  "language_info": {
   "codemirror_mode": {
    "name": "ipython",
    "version": 3
   },
   "file_extension": ".py",
   "mimetype": "text/x-python",
   "name": "python",
   "nbconvert_exporter": "python",
   "pygments_lexer": "ipython3",
   "version": "3.12.2"
  }
 },
 "nbformat": 4,
 "nbformat_minor": 5
}
