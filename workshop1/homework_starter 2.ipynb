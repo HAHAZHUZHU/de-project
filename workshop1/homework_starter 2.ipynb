{
  "cells": [
    {
      "cell_type": "markdown",
      "metadata": {
        "id": "mrTFv5nPClXh"
      },
      "source": [
        "# **Homework**: Data talks club data engineering zoomcamp Data loading workshop\n",
        "\n",
        "Hello folks, let's practice what we learned - Loading data with the best practices of data engineering.\n",
        "\n",
        "Here are the exercises we will do\n",
        "\n",
        "\n"
      ]
    },
    {
      "cell_type": "markdown",
      "metadata": {
        "id": "wLF4iXf-NR7t"
      },
      "source": [
        "# 1. Use a generator\n",
        "\n",
        "Remember the concept of generator? Let's practice using them to futher our understanding of how they work.\n",
        "\n",
        "Let's define a generator and then run it as practice.\n",
        "\n",
        "**Answer the following questions:**\n",
        "\n",
        "- **Question 1: What is the sum of the outputs of the generator for limit = 5?**\n",
        "- **Question 2: What is the 13th number yielded**\n",
        "\n",
        "I suggest practicing these questions without GPT as the purpose is to further your learning."
      ]
    },
    {
      "cell_type": "code",
      "execution_count": 5,
      "metadata": {
        "colab": {
          "base_uri": "https://localhost:8080/"
        },
        "id": "wLng-bDJN4jf",
        "outputId": "547683cb-5f56-4815-a903-d0d9578eb1f9"
      },
      "outputs": [
        {
          "name": "stdout",
          "output_type": "stream",
          "text": [
            "1.0\n",
            "1.4142135623730951\n",
            "1.7320508075688772\n",
            "2.0\n",
            "2.23606797749979\n",
            "2.449489742783178\n",
            "2.6457513110645907\n",
            "2.8284271247461903\n",
            "3.0\n",
            "3.1622776601683795\n",
            "3.3166247903554\n",
            "3.4641016151377544\n",
            "3.605551275463989\n"
          ]
        }
      ],
      "source": [
        "def square_root_generator(limit):\n",
        "    n = 1\n",
        "    while n <= limit:\n",
        "        yield n ** 0.5\n",
        "        n += 1\n",
        "\n",
        "# Example usage:\n",
        "limit = 13\n",
        "generator = square_root_generator(limit)\n",
        "\n",
        "res_sum = 0\n",
        "\n",
        "for sqrt_value in generator:\n",
        "    res_sum += sqrt_value\n",
        "    print(sqrt_value)\n"
      ]
    },
    {
      "cell_type": "code",
      "execution_count": 4,
      "metadata": {},
      "outputs": [
        {
          "name": "stdout",
          "output_type": "stream",
          "text": [
            "Sum of square roots up to 5: 8.382332347441762\n"
          ]
        }
      ],
      "source": [
        "print(f\"Sum of square roots up to {limit}: {res_sum}\")"
      ]
    },
    {
      "cell_type": "markdown",
      "metadata": {
        "id": "xbe3q55zN43j"
      },
      "source": []
    },
    {
      "cell_type": "markdown",
      "metadata": {
        "id": "vjWhILzGJMpK"
      },
      "source": [
        "# 2. Append a generator to a table with existing data\n",
        "\n",
        "\n",
        "Below you have 2 generators. You will be tasked to load them to duckdb and answer some questions from the data\n",
        "\n",
        "1. Load the first generator and calculate the sum of ages of all people. Make sure to only load it once.\n",
        "2. Append the second generator to the same table as the first.\n",
        "3. **After correctly appending the data, calculate the sum of all ages of people.**\n",
        "\n",
        "\n"
      ]
    },
    {
      "cell_type": "code",
      "execution_count": 8,
      "metadata": {
        "colab": {
          "base_uri": "https://localhost:8080/"
        },
        "id": "2MoaQcdLBEk6",
        "outputId": "d2b93dc1-d83f-44ea-aeff-fdf51d75f7aa"
      },
      "outputs": [
        {
          "name": "stdout",
          "output_type": "stream",
          "text": [
            "{'ID': 1, 'Name': 'Person_1', 'Age': 26, 'City': 'City_A'}\n",
            "{'ID': 2, 'Name': 'Person_2', 'Age': 27, 'City': 'City_A'}\n",
            "{'ID': 3, 'Name': 'Person_3', 'Age': 28, 'City': 'City_A'}\n",
            "{'ID': 4, 'Name': 'Person_4', 'Age': 29, 'City': 'City_A'}\n",
            "{'ID': 5, 'Name': 'Person_5', 'Age': 30, 'City': 'City_A'}\n",
            "{'ID': 3, 'Name': 'Person_3', 'Age': 33, 'City': 'City_B', 'Occupation': 'Job_3'}\n",
            "{'ID': 4, 'Name': 'Person_4', 'Age': 34, 'City': 'City_B', 'Occupation': 'Job_4'}\n",
            "{'ID': 5, 'Name': 'Person_5', 'Age': 35, 'City': 'City_B', 'Occupation': 'Job_5'}\n",
            "{'ID': 6, 'Name': 'Person_6', 'Age': 36, 'City': 'City_B', 'Occupation': 'Job_6'}\n",
            "{'ID': 7, 'Name': 'Person_7', 'Age': 37, 'City': 'City_B', 'Occupation': 'Job_7'}\n",
            "{'ID': 8, 'Name': 'Person_8', 'Age': 38, 'City': 'City_B', 'Occupation': 'Job_8'}\n"
          ]
        }
      ],
      "source": [
        "def people_1():\n",
        "    for i in range(1, 6):\n",
        "        yield {\"ID\": i, \"Name\": f\"Person_{i}\", \"Age\": 25 + i, \"City\": \"City_A\"}\n",
        "\n",
        "for person in people_1():\n",
        "    print(person)\n",
        "\n",
        "\n",
        "def people_2():\n",
        "    for i in range(3, 9):\n",
        "        yield {\"ID\": i, \"Name\": f\"Person_{i}\", \"Age\": 30 + i, \"City\": \"City_B\", \"Occupation\": f\"Job_{i}\"}\n",
        "\n",
        "\n",
        "for person in people_2():\n",
        "    print(person)\n"
      ]
    },
    {
      "cell_type": "code",
      "execution_count": 6,
      "metadata": {},
      "outputs": [
        {
          "name": "stdout",
          "output_type": "stream",
          "text": [
            "Requirement already satisfied: dlt[duckdb] in /opt/anaconda3/envs/de_project/lib/python3.12/site-packages (0.4.7)\n",
            "Requirement already satisfied: PyYAML>=5.4.1 in /opt/anaconda3/envs/de_project/lib/python3.12/site-packages (from dlt[duckdb]) (6.0.1)\n",
            "Requirement already satisfied: astunparse>=1.6.3 in /opt/anaconda3/envs/de_project/lib/python3.12/site-packages (from dlt[duckdb]) (1.6.3)\n",
            "Requirement already satisfied: click>=7.1 in /opt/anaconda3/envs/de_project/lib/python3.12/site-packages (from dlt[duckdb]) (8.1.7)\n",
            "Requirement already satisfied: duckdb<0.11.0,>=0.10.0 in /opt/anaconda3/envs/de_project/lib/python3.12/site-packages (from dlt[duckdb]) (0.10.1)\n",
            "Requirement already satisfied: fsspec>=2022.4.0 in /opt/anaconda3/envs/de_project/lib/python3.12/site-packages (from dlt[duckdb]) (2024.3.1)\n",
            "Requirement already satisfied: gitpython>=3.1.29 in /opt/anaconda3/envs/de_project/lib/python3.12/site-packages (from dlt[duckdb]) (3.1.43)\n",
            "Requirement already satisfied: giturlparse>=0.10.0 in /opt/anaconda3/envs/de_project/lib/python3.12/site-packages (from dlt[duckdb]) (0.12.0)\n",
            "Requirement already satisfied: hexbytes>=0.2.2 in /opt/anaconda3/envs/de_project/lib/python3.12/site-packages (from dlt[duckdb]) (1.2.0)\n",
            "Requirement already satisfied: humanize>=4.4.0 in /opt/anaconda3/envs/de_project/lib/python3.12/site-packages (from dlt[duckdb]) (4.9.0)\n",
            "Requirement already satisfied: jsonpath-ng>=1.5.3 in /opt/anaconda3/envs/de_project/lib/python3.12/site-packages (from dlt[duckdb]) (1.6.1)\n",
            "Requirement already satisfied: makefun>=1.15.0 in /opt/anaconda3/envs/de_project/lib/python3.12/site-packages (from dlt[duckdb]) (1.15.2)\n",
            "Requirement already satisfied: orjson<=3.9.10,>=3.6.7 in /opt/anaconda3/envs/de_project/lib/python3.12/site-packages (from dlt[duckdb]) (3.9.10)\n",
            "Requirement already satisfied: packaging>=21.1 in /opt/anaconda3/envs/de_project/lib/python3.12/site-packages (from dlt[duckdb]) (24.0)\n",
            "Requirement already satisfied: pathvalidate>=2.5.2 in /opt/anaconda3/envs/de_project/lib/python3.12/site-packages (from dlt[duckdb]) (3.2.0)\n",
            "Requirement already satisfied: pendulum>=2.1.2 in /opt/anaconda3/envs/de_project/lib/python3.12/site-packages (from dlt[duckdb]) (3.0.0)\n",
            "Requirement already satisfied: pytz>=2022.6 in /opt/anaconda3/envs/de_project/lib/python3.12/site-packages (from dlt[duckdb]) (2024.1)\n",
            "Requirement already satisfied: requests>=2.26.0 in /opt/anaconda3/envs/de_project/lib/python3.12/site-packages (from dlt[duckdb]) (2.31.0)\n",
            "Requirement already satisfied: requirements-parser>=0.5.0 in /opt/anaconda3/envs/de_project/lib/python3.12/site-packages (from dlt[duckdb]) (0.9.0)\n",
            "Requirement already satisfied: semver>=2.13.0 in /opt/anaconda3/envs/de_project/lib/python3.12/site-packages (from dlt[duckdb]) (3.0.2)\n",
            "Requirement already satisfied: setuptools>=65.6.0 in /opt/anaconda3/envs/de_project/lib/python3.12/site-packages (from dlt[duckdb]) (68.2.2)\n",
            "Requirement already satisfied: simplejson>=3.17.5 in /opt/anaconda3/envs/de_project/lib/python3.12/site-packages (from dlt[duckdb]) (3.19.2)\n",
            "Requirement already satisfied: tenacity>=8.0.2 in /opt/anaconda3/envs/de_project/lib/python3.12/site-packages (from dlt[duckdb]) (8.2.3)\n",
            "Requirement already satisfied: tomlkit>=0.11.3 in /opt/anaconda3/envs/de_project/lib/python3.12/site-packages (from dlt[duckdb]) (0.12.4)\n",
            "Requirement already satisfied: typing-extensions>=4.0.0 in /opt/anaconda3/envs/de_project/lib/python3.12/site-packages (from dlt[duckdb]) (4.10.0)\n",
            "Requirement already satisfied: tzdata>=2022.1 in /opt/anaconda3/envs/de_project/lib/python3.12/site-packages (from dlt[duckdb]) (2024.1)\n",
            "Requirement already satisfied: wheel<1.0,>=0.23.0 in /opt/anaconda3/envs/de_project/lib/python3.12/site-packages (from astunparse>=1.6.3->dlt[duckdb]) (0.41.2)\n",
            "Requirement already satisfied: six<2.0,>=1.6.1 in /opt/anaconda3/envs/de_project/lib/python3.12/site-packages (from astunparse>=1.6.3->dlt[duckdb]) (1.16.0)\n",
            "Requirement already satisfied: gitdb<5,>=4.0.1 in /opt/anaconda3/envs/de_project/lib/python3.12/site-packages (from gitpython>=3.1.29->dlt[duckdb]) (4.0.11)\n",
            "Requirement already satisfied: ply in /opt/anaconda3/envs/de_project/lib/python3.12/site-packages (from jsonpath-ng>=1.5.3->dlt[duckdb]) (3.11)\n",
            "Requirement already satisfied: python-dateutil>=2.6 in /opt/anaconda3/envs/de_project/lib/python3.12/site-packages (from pendulum>=2.1.2->dlt[duckdb]) (2.9.0)\n",
            "Requirement already satisfied: time-machine>=2.6.0 in /opt/anaconda3/envs/de_project/lib/python3.12/site-packages (from pendulum>=2.1.2->dlt[duckdb]) (2.14.1)\n",
            "Requirement already satisfied: charset-normalizer<4,>=2 in /opt/anaconda3/envs/de_project/lib/python3.12/site-packages (from requests>=2.26.0->dlt[duckdb]) (3.3.2)\n",
            "Requirement already satisfied: idna<4,>=2.5 in /opt/anaconda3/envs/de_project/lib/python3.12/site-packages (from requests>=2.26.0->dlt[duckdb]) (3.6)\n",
            "Requirement already satisfied: urllib3<3,>=1.21.1 in /opt/anaconda3/envs/de_project/lib/python3.12/site-packages (from requests>=2.26.0->dlt[duckdb]) (2.2.1)\n",
            "Requirement already satisfied: certifi>=2017.4.17 in /opt/anaconda3/envs/de_project/lib/python3.12/site-packages (from requests>=2.26.0->dlt[duckdb]) (2024.2.2)\n",
            "Requirement already satisfied: types-setuptools>=69.1.0 in /opt/anaconda3/envs/de_project/lib/python3.12/site-packages (from requirements-parser>=0.5.0->dlt[duckdb]) (69.2.0.20240317)\n",
            "Requirement already satisfied: smmap<6,>=3.0.1 in /opt/anaconda3/envs/de_project/lib/python3.12/site-packages (from gitdb<5,>=4.0.1->gitpython>=3.1.29->dlt[duckdb]) (5.0.1)\n"
          ]
        }
      ],
      "source": [
        "!pip install \"dlt[duckdb]\""
      ]
    },
    {
      "cell_type": "code",
      "execution_count": 12,
      "metadata": {},
      "outputs": [
        {
          "name": "stdout",
          "output_type": "stream",
          "text": [
            "Pipeline people_1_pipeline load step completed in 0.15 seconds\n",
            "1 load package(s) were loaded to destination duckdb and into dataset people_1\n",
            "The duckdb destination used duckdb:////Users/liuruizhu/Library/Mobile Documents/com~apple~CloudDocs/study_intern/de_project/workshop1/people_1_pipeline.duckdb location to store data\n",
            "Load package 1712584164.382219 is LOADED and contains no failed jobs\n"
          ]
        }
      ],
      "source": [
        "# load the people_1 to the duckdb\n",
        "import dlt\n",
        "\n",
        "p1 = dlt.pipeline(pipeline_name=\"people_1_pipeline\", destination=\"duckdb\", dataset_name=\"people_1\")\n",
        "\n",
        "info = p1.run(people_1(), table_name=\"people_1_data\", write_disposition=\"replace\")\n",
        "\n",
        "print(info)"
      ]
    },
    {
      "cell_type": "code",
      "execution_count": 13,
      "metadata": {},
      "outputs": [
        {
          "data": {
            "text/plain": [
              "'people_1_pipeline'"
            ]
          },
          "execution_count": 13,
          "metadata": {},
          "output_type": "execute_result"
        }
      ],
      "source": [
        "p1.pipeline_name"
      ]
    },
    {
      "cell_type": "code",
      "execution_count": 14,
      "metadata": {},
      "outputs": [
        {
          "name": "stdout",
          "output_type": "stream",
          "text": [
            "Loaded tables: \n"
          ]
        },
        {
          "data": {
            "text/plain": [
              "┌─────────────────────┐\n",
              "│        name         │\n",
              "│       varchar       │\n",
              "├─────────────────────┤\n",
              "│ _dlt_loads          │\n",
              "│ _dlt_pipeline_state │\n",
              "│ _dlt_version        │\n",
              "│ people_1_data       │\n",
              "└─────────────────────┘"
            ]
          },
          "metadata": {},
          "output_type": "display_data"
        },
        {
          "name": "stdout",
          "output_type": "stream",
          "text": [
            "\n",
            "\n",
            "\n",
            " people_1_data table below:\n"
          ]
        },
        {
          "data": {
            "text/html": [
              "<div>\n",
              "<style scoped>\n",
              "    .dataframe tbody tr th:only-of-type {\n",
              "        vertical-align: middle;\n",
              "    }\n",
              "\n",
              "    .dataframe tbody tr th {\n",
              "        vertical-align: top;\n",
              "    }\n",
              "\n",
              "    .dataframe thead th {\n",
              "        text-align: right;\n",
              "    }\n",
              "</style>\n",
              "<table border=\"1\" class=\"dataframe\">\n",
              "  <thead>\n",
              "    <tr style=\"text-align: right;\">\n",
              "      <th></th>\n",
              "      <th>id</th>\n",
              "      <th>name</th>\n",
              "      <th>age</th>\n",
              "      <th>city</th>\n",
              "      <th>_dlt_load_id</th>\n",
              "      <th>_dlt_id</th>\n",
              "    </tr>\n",
              "  </thead>\n",
              "  <tbody>\n",
              "    <tr>\n",
              "      <th>0</th>\n",
              "      <td>1</td>\n",
              "      <td>Person_1</td>\n",
              "      <td>26</td>\n",
              "      <td>City_A</td>\n",
              "      <td>1712584164.382219</td>\n",
              "      <td>ikvB0CI4asBO0A</td>\n",
              "    </tr>\n",
              "    <tr>\n",
              "      <th>1</th>\n",
              "      <td>2</td>\n",
              "      <td>Person_2</td>\n",
              "      <td>27</td>\n",
              "      <td>City_A</td>\n",
              "      <td>1712584164.382219</td>\n",
              "      <td>TfzEg2daZIGZvA</td>\n",
              "    </tr>\n",
              "    <tr>\n",
              "      <th>2</th>\n",
              "      <td>3</td>\n",
              "      <td>Person_3</td>\n",
              "      <td>28</td>\n",
              "      <td>City_A</td>\n",
              "      <td>1712584164.382219</td>\n",
              "      <td>PKD48bTRMwq4gA</td>\n",
              "    </tr>\n",
              "    <tr>\n",
              "      <th>3</th>\n",
              "      <td>4</td>\n",
              "      <td>Person_4</td>\n",
              "      <td>29</td>\n",
              "      <td>City_A</td>\n",
              "      <td>1712584164.382219</td>\n",
              "      <td>Vbz/y1cQZoaqAQ</td>\n",
              "    </tr>\n",
              "    <tr>\n",
              "      <th>4</th>\n",
              "      <td>5</td>\n",
              "      <td>Person_5</td>\n",
              "      <td>30</td>\n",
              "      <td>City_A</td>\n",
              "      <td>1712584164.382219</td>\n",
              "      <td>c12P8dCDcRdcDw</td>\n",
              "    </tr>\n",
              "  </tbody>\n",
              "</table>\n",
              "</div>"
            ],
            "text/plain": [
              "   id      name  age    city       _dlt_load_id         _dlt_id\n",
              "0   1  Person_1   26  City_A  1712584164.382219  ikvB0CI4asBO0A\n",
              "1   2  Person_2   27  City_A  1712584164.382219  TfzEg2daZIGZvA\n",
              "2   3  Person_3   28  City_A  1712584164.382219  PKD48bTRMwq4gA\n",
              "3   4  Person_4   29  City_A  1712584164.382219  Vbz/y1cQZoaqAQ\n",
              "4   5  Person_5   30  City_A  1712584164.382219  c12P8dCDcRdcDw"
            ]
          },
          "metadata": {},
          "output_type": "display_data"
        }
      ],
      "source": [
        "# show outcome\n",
        "\n",
        "import duckdb\n",
        "\n",
        "conn = duckdb.connect(f\"{p1.pipeline_name}.duckdb\")\n",
        "\n",
        "# let's see the tables\n",
        "conn.sql(f\"SET search_path = '{p1.dataset_name}'\")\n",
        "print('Loaded tables: ')\n",
        "display(conn.sql(\"show tables\"))\n",
        "\n",
        "# and the data\n",
        "\n",
        "print(\"\\n\\n\\n people_1_data table below:\")\n",
        "\n",
        "people_1_data = conn.sql(\"SELECT * FROM people_1_data\").df()\n",
        "display(people_1_data)\n",
        "\n",
        "# As you can see, the same data was loaded in both cases."
      ]
    },
    {
      "cell_type": "code",
      "execution_count": 24,
      "metadata": {},
      "outputs": [
        {
          "name": "stdout",
          "output_type": "stream",
          "text": [
            "Pipeline people_1_pipeline load step completed in 0.18 seconds\n",
            "1 load package(s) were loaded to destination duckdb and into dataset people_1\n",
            "The duckdb destination used duckdb:////Users/liuruizhu/Library/Mobile Documents/com~apple~CloudDocs/study_intern/de_project/workshop1/people_1_pipeline.duckdb location to store data\n",
            "Load package 1712625904.6305962 is LOADED and contains no failed jobs\n"
          ]
        }
      ],
      "source": [
        "# load the people_2 to the duckdb\n",
        "p2 = dlt.pipeline(pipeline_name=\"people_1_pipeline\", destination=\"duckdb\", dataset_name=\"people_1\")\n",
        "\n",
        "info = p2.run(people_2(), table_name=\"people_1_data\", write_disposition=\"append\")\n",
        "\n",
        "print(info)"
      ]
    },
    {
      "cell_type": "code",
      "execution_count": 25,
      "metadata": {},
      "outputs": [
        {
          "name": "stdout",
          "output_type": "stream",
          "text": [
            "Loaded tables: \n"
          ]
        },
        {
          "data": {
            "text/plain": [
              "┌─────────────────────┐\n",
              "│        name         │\n",
              "│       varchar       │\n",
              "├─────────────────────┤\n",
              "│ _dlt_loads          │\n",
              "│ _dlt_pipeline_state │\n",
              "│ _dlt_version        │\n",
              "│ people_1_data       │\n",
              "└─────────────────────┘"
            ]
          },
          "metadata": {},
          "output_type": "display_data"
        },
        {
          "name": "stdout",
          "output_type": "stream",
          "text": [
            "\n",
            "\n",
            "\n",
            " people_1_data table below:\n"
          ]
        },
        {
          "data": {
            "text/html": [
              "<div>\n",
              "<style scoped>\n",
              "    .dataframe tbody tr th:only-of-type {\n",
              "        vertical-align: middle;\n",
              "    }\n",
              "\n",
              "    .dataframe tbody tr th {\n",
              "        vertical-align: top;\n",
              "    }\n",
              "\n",
              "    .dataframe thead th {\n",
              "        text-align: right;\n",
              "    }\n",
              "</style>\n",
              "<table border=\"1\" class=\"dataframe\">\n",
              "  <thead>\n",
              "    <tr style=\"text-align: right;\">\n",
              "      <th></th>\n",
              "      <th>id</th>\n",
              "      <th>name</th>\n",
              "      <th>age</th>\n",
              "      <th>city</th>\n",
              "      <th>_dlt_load_id</th>\n",
              "      <th>_dlt_id</th>\n",
              "      <th>occupation</th>\n",
              "    </tr>\n",
              "  </thead>\n",
              "  <tbody>\n",
              "    <tr>\n",
              "      <th>0</th>\n",
              "      <td>1</td>\n",
              "      <td>Person_1</td>\n",
              "      <td>26</td>\n",
              "      <td>City_A</td>\n",
              "      <td>1712584164.382219</td>\n",
              "      <td>ikvB0CI4asBO0A</td>\n",
              "      <td>None</td>\n",
              "    </tr>\n",
              "    <tr>\n",
              "      <th>1</th>\n",
              "      <td>2</td>\n",
              "      <td>Person_2</td>\n",
              "      <td>27</td>\n",
              "      <td>City_A</td>\n",
              "      <td>1712584164.382219</td>\n",
              "      <td>TfzEg2daZIGZvA</td>\n",
              "      <td>None</td>\n",
              "    </tr>\n",
              "    <tr>\n",
              "      <th>2</th>\n",
              "      <td>3</td>\n",
              "      <td>Person_3</td>\n",
              "      <td>28</td>\n",
              "      <td>City_A</td>\n",
              "      <td>1712584164.382219</td>\n",
              "      <td>PKD48bTRMwq4gA</td>\n",
              "      <td>None</td>\n",
              "    </tr>\n",
              "    <tr>\n",
              "      <th>3</th>\n",
              "      <td>4</td>\n",
              "      <td>Person_4</td>\n",
              "      <td>29</td>\n",
              "      <td>City_A</td>\n",
              "      <td>1712584164.382219</td>\n",
              "      <td>Vbz/y1cQZoaqAQ</td>\n",
              "      <td>None</td>\n",
              "    </tr>\n",
              "    <tr>\n",
              "      <th>4</th>\n",
              "      <td>5</td>\n",
              "      <td>Person_5</td>\n",
              "      <td>30</td>\n",
              "      <td>City_A</td>\n",
              "      <td>1712584164.382219</td>\n",
              "      <td>c12P8dCDcRdcDw</td>\n",
              "      <td>None</td>\n",
              "    </tr>\n",
              "    <tr>\n",
              "      <th>5</th>\n",
              "      <td>3</td>\n",
              "      <td>Person_3</td>\n",
              "      <td>33</td>\n",
              "      <td>City_B</td>\n",
              "      <td>1712625904.6305962</td>\n",
              "      <td>OXuNQuhaFJl5aQ</td>\n",
              "      <td>Job_3</td>\n",
              "    </tr>\n",
              "    <tr>\n",
              "      <th>6</th>\n",
              "      <td>4</td>\n",
              "      <td>Person_4</td>\n",
              "      <td>34</td>\n",
              "      <td>City_B</td>\n",
              "      <td>1712625904.6305962</td>\n",
              "      <td>Wr+ccNi9IvNarw</td>\n",
              "      <td>Job_4</td>\n",
              "    </tr>\n",
              "    <tr>\n",
              "      <th>7</th>\n",
              "      <td>5</td>\n",
              "      <td>Person_5</td>\n",
              "      <td>35</td>\n",
              "      <td>City_B</td>\n",
              "      <td>1712625904.6305962</td>\n",
              "      <td>z2ohOmdgo+qJbA</td>\n",
              "      <td>Job_5</td>\n",
              "    </tr>\n",
              "    <tr>\n",
              "      <th>8</th>\n",
              "      <td>6</td>\n",
              "      <td>Person_6</td>\n",
              "      <td>36</td>\n",
              "      <td>City_B</td>\n",
              "      <td>1712625904.6305962</td>\n",
              "      <td>0jy9Iqxw4Jwy6A</td>\n",
              "      <td>Job_6</td>\n",
              "    </tr>\n",
              "    <tr>\n",
              "      <th>9</th>\n",
              "      <td>7</td>\n",
              "      <td>Person_7</td>\n",
              "      <td>37</td>\n",
              "      <td>City_B</td>\n",
              "      <td>1712625904.6305962</td>\n",
              "      <td>LK3ZYnzqf7F88g</td>\n",
              "      <td>Job_7</td>\n",
              "    </tr>\n",
              "    <tr>\n",
              "      <th>10</th>\n",
              "      <td>8</td>\n",
              "      <td>Person_8</td>\n",
              "      <td>38</td>\n",
              "      <td>City_B</td>\n",
              "      <td>1712625904.6305962</td>\n",
              "      <td>Yh4SFJt1uV5KjA</td>\n",
              "      <td>Job_8</td>\n",
              "    </tr>\n",
              "  </tbody>\n",
              "</table>\n",
              "</div>"
            ],
            "text/plain": [
              "    id      name  age    city        _dlt_load_id         _dlt_id occupation\n",
              "0    1  Person_1   26  City_A   1712584164.382219  ikvB0CI4asBO0A       None\n",
              "1    2  Person_2   27  City_A   1712584164.382219  TfzEg2daZIGZvA       None\n",
              "2    3  Person_3   28  City_A   1712584164.382219  PKD48bTRMwq4gA       None\n",
              "3    4  Person_4   29  City_A   1712584164.382219  Vbz/y1cQZoaqAQ       None\n",
              "4    5  Person_5   30  City_A   1712584164.382219  c12P8dCDcRdcDw       None\n",
              "5    3  Person_3   33  City_B  1712625904.6305962  OXuNQuhaFJl5aQ      Job_3\n",
              "6    4  Person_4   34  City_B  1712625904.6305962  Wr+ccNi9IvNarw      Job_4\n",
              "7    5  Person_5   35  City_B  1712625904.6305962  z2ohOmdgo+qJbA      Job_5\n",
              "8    6  Person_6   36  City_B  1712625904.6305962  0jy9Iqxw4Jwy6A      Job_6\n",
              "9    7  Person_7   37  City_B  1712625904.6305962  LK3ZYnzqf7F88g      Job_7\n",
              "10   8  Person_8   38  City_B  1712625904.6305962  Yh4SFJt1uV5KjA      Job_8"
            ]
          },
          "metadata": {},
          "output_type": "display_data"
        }
      ],
      "source": [
        "# show outcome\n",
        "conn = duckdb.connect(f\"{p1.pipeline_name}.duckdb\")\n",
        "\n",
        "# let's see the tables\n",
        "conn.sql(f\"SET search_path = '{p1.dataset_name}'\")\n",
        "print('Loaded tables: ')\n",
        "display(conn.sql(\"show tables\"))\n",
        "\n",
        "# and the data\n",
        "\n",
        "print(\"\\n\\n\\n people_1_data table below:\")\n",
        "\n",
        "people_1_data = conn.sql(\"SELECT * FROM people_1_data\").df()\n",
        "display(people_1_data)"
      ]
    },
    {
      "cell_type": "code",
      "execution_count": 26,
      "metadata": {},
      "outputs": [
        {
          "name": "stdout",
          "output_type": "stream",
          "text": [
            "┌──────────┐\n",
            "│ sum(age) │\n",
            "│  int128  │\n",
            "├──────────┤\n",
            "│      353 │\n",
            "└──────────┘\n",
            "\n"
          ]
        }
      ],
      "source": [
        "# method 1\n",
        "# age_sum = people_1_data[\"age\"].sum()\n",
        "\n",
        "# method 2\n",
        "age_sum = conn.sql(\"SELECT sum(age) FROM people_1_data\")\n",
        "\n",
        "\n",
        "print(age_sum)"
      ]
    },
    {
      "cell_type": "markdown",
      "metadata": {
        "id": "vtdTIm4fvQCN"
      },
      "source": []
    },
    {
      "cell_type": "markdown",
      "metadata": {
        "id": "pY4cFAWOSwN1"
      },
      "source": [
        "# 3. Merge a generator\n",
        "\n",
        "Re-use the generators from Exercise 2.\n",
        "\n",
        "A table's primary key needs to be created from the start, so load your data to a new table with primary key ID.\n",
        "\n",
        "Load your first generator first, and then load the second one with merge. Since they have overlapping IDs, some of the records from the first load should be replaced by the ones from the second load.\n",
        "\n",
        "After loading, you should have a total of 8 records, and ID 3 should have age 33.\n",
        "\n",
        "Question: **Calculate the sum of ages of all the people loaded as described above.**\n"
      ]
    },
    {
      "cell_type": "markdown",
      "metadata": {
        "id": "kKB2GTB9oVjr"
      },
      "source": [
        "# Solution: First make sure that the following modules are installed:"
      ]
    },
    {
      "cell_type": "code",
      "execution_count": 28,
      "metadata": {
        "id": "xTVvtyqrfVNq"
      },
      "outputs": [
        {
          "name": "stdout",
          "output_type": "stream",
          "text": [
            "zsh:1: no matches found: dlt[duckdb]\n"
          ]
        }
      ],
      "source": [
        "#Install the dependencies\n",
        "!pip install dlt[duckdb]"
      ]
    },
    {
      "cell_type": "code",
      "execution_count": 29,
      "metadata": {
        "id": "a2-PRBAkGC2K"
      },
      "outputs": [
        {
          "name": "stdout",
          "output_type": "stream",
          "text": [
            "Pipeline people_pipeline_with_key load step completed in 0.22 seconds\n",
            "1 load package(s) were loaded to destination duckdb and into dataset people_with_key\n",
            "The duckdb destination used duckdb:////Users/liuruizhu/Library/Mobile Documents/com~apple~CloudDocs/study_intern/de_project/workshop1/people_pipeline_with_key.duckdb location to store data\n",
            "Load package 1712627552.328615 is LOADED and contains no failed jobs\n"
          ]
        }
      ],
      "source": [
        "# to do: homework :)\n",
        "\n",
        "# load the generator people_1 to the duckbd with primary key\n",
        "people_pipeline_with_key = dlt.pipeline(pipeline_name=\"people_pipeline_with_key\", destination=\"duckdb\", dataset_name=\"people_with_key\")\n",
        "\n",
        "info = people_pipeline_with_key.run(people_1(), table_name=\"people_table_with_key\", write_disposition=\"replace\", primary_key=\"id\")\n",
        "\n",
        "print(info)"
      ]
    },
    {
      "cell_type": "code",
      "execution_count": 30,
      "metadata": {},
      "outputs": [
        {
          "name": "stdout",
          "output_type": "stream",
          "text": [
            "Loaded tables: \n"
          ]
        },
        {
          "data": {
            "text/plain": [
              "┌───────────────────────┐\n",
              "│         name          │\n",
              "│        varchar        │\n",
              "├───────────────────────┤\n",
              "│ _dlt_loads            │\n",
              "│ _dlt_pipeline_state   │\n",
              "│ _dlt_version          │\n",
              "│ people_table_with_key │\n",
              "└───────────────────────┘"
            ]
          },
          "metadata": {},
          "output_type": "display_data"
        },
        {
          "name": "stdout",
          "output_type": "stream",
          "text": [
            "\n",
            "\n",
            "\n",
            " people_table_with_key table below:\n"
          ]
        },
        {
          "data": {
            "text/html": [
              "<div>\n",
              "<style scoped>\n",
              "    .dataframe tbody tr th:only-of-type {\n",
              "        vertical-align: middle;\n",
              "    }\n",
              "\n",
              "    .dataframe tbody tr th {\n",
              "        vertical-align: top;\n",
              "    }\n",
              "\n",
              "    .dataframe thead th {\n",
              "        text-align: right;\n",
              "    }\n",
              "</style>\n",
              "<table border=\"1\" class=\"dataframe\">\n",
              "  <thead>\n",
              "    <tr style=\"text-align: right;\">\n",
              "      <th></th>\n",
              "      <th>id</th>\n",
              "      <th>name</th>\n",
              "      <th>age</th>\n",
              "      <th>city</th>\n",
              "      <th>_dlt_load_id</th>\n",
              "      <th>_dlt_id</th>\n",
              "    </tr>\n",
              "  </thead>\n",
              "  <tbody>\n",
              "    <tr>\n",
              "      <th>0</th>\n",
              "      <td>1</td>\n",
              "      <td>Person_1</td>\n",
              "      <td>26</td>\n",
              "      <td>City_A</td>\n",
              "      <td>1712627552.328615</td>\n",
              "      <td>lXwuJyc4thW5tA</td>\n",
              "    </tr>\n",
              "    <tr>\n",
              "      <th>1</th>\n",
              "      <td>2</td>\n",
              "      <td>Person_2</td>\n",
              "      <td>27</td>\n",
              "      <td>City_A</td>\n",
              "      <td>1712627552.328615</td>\n",
              "      <td>aI0+p1ya/x6a6w</td>\n",
              "    </tr>\n",
              "    <tr>\n",
              "      <th>2</th>\n",
              "      <td>3</td>\n",
              "      <td>Person_3</td>\n",
              "      <td>28</td>\n",
              "      <td>City_A</td>\n",
              "      <td>1712627552.328615</td>\n",
              "      <td>++mda+uYi44JlA</td>\n",
              "    </tr>\n",
              "    <tr>\n",
              "      <th>3</th>\n",
              "      <td>4</td>\n",
              "      <td>Person_4</td>\n",
              "      <td>29</td>\n",
              "      <td>City_A</td>\n",
              "      <td>1712627552.328615</td>\n",
              "      <td>WbUikdUufxeuPw</td>\n",
              "    </tr>\n",
              "    <tr>\n",
              "      <th>4</th>\n",
              "      <td>5</td>\n",
              "      <td>Person_5</td>\n",
              "      <td>30</td>\n",
              "      <td>City_A</td>\n",
              "      <td>1712627552.328615</td>\n",
              "      <td>n6U4uybtsrM/7A</td>\n",
              "    </tr>\n",
              "  </tbody>\n",
              "</table>\n",
              "</div>"
            ],
            "text/plain": [
              "   id      name  age    city       _dlt_load_id         _dlt_id\n",
              "0   1  Person_1   26  City_A  1712627552.328615  lXwuJyc4thW5tA\n",
              "1   2  Person_2   27  City_A  1712627552.328615  aI0+p1ya/x6a6w\n",
              "2   3  Person_3   28  City_A  1712627552.328615  ++mda+uYi44JlA\n",
              "3   4  Person_4   29  City_A  1712627552.328615  WbUikdUufxeuPw\n",
              "4   5  Person_5   30  City_A  1712627552.328615  n6U4uybtsrM/7A"
            ]
          },
          "metadata": {},
          "output_type": "display_data"
        }
      ],
      "source": [
        "# show outcome\n",
        "conn = duckdb.connect(f\"{people_pipeline_with_key.pipeline_name}.duckdb\")\n",
        "\n",
        "# let's see the tables\n",
        "conn.sql(f\"SET search_path = '{people_pipeline_with_key.dataset_name}'\")\n",
        "print('Loaded tables: ')\n",
        "display(conn.sql(\"show tables\"))\n",
        "\n",
        "# and the data\n",
        "\n",
        "print(\"\\n\\n\\n people_table_with_key table below:\")\n",
        "\n",
        "people_table = conn.sql(\"SELECT * FROM people_table_with_key\").df()\n",
        "display(people_table)"
      ]
    },
    {
      "cell_type": "code",
      "execution_count": 31,
      "metadata": {},
      "outputs": [
        {
          "name": "stdout",
          "output_type": "stream",
          "text": [
            "Pipeline people_pipeline_with_key load step completed in 0.39 seconds\n",
            "1 load package(s) were loaded to destination duckdb and into dataset people_with_key\n",
            "The duckdb destination used duckdb:////Users/liuruizhu/Library/Mobile Documents/com~apple~CloudDocs/study_intern/de_project/workshop1/people_pipeline_with_key.duckdb location to store data\n",
            "Load package 1712627656.814548 is LOADED and contains no failed jobs\n"
          ]
        }
      ],
      "source": [
        "# load the generator people_2 to the duckbd with primary key\n",
        "info = people_pipeline_with_key.run(people_2(), table_name=\"people_table_with_key\", write_disposition=\"merge\", primary_key=\"id\")\n",
        "\n",
        "print(info)"
      ]
    },
    {
      "cell_type": "code",
      "execution_count": 32,
      "metadata": {},
      "outputs": [
        {
          "name": "stdout",
          "output_type": "stream",
          "text": [
            "Loaded tables: \n"
          ]
        },
        {
          "data": {
            "text/plain": [
              "┌───────────────────────┐\n",
              "│         name          │\n",
              "│        varchar        │\n",
              "├───────────────────────┤\n",
              "│ _dlt_loads            │\n",
              "│ _dlt_pipeline_state   │\n",
              "│ _dlt_version          │\n",
              "│ people_table_with_key │\n",
              "└───────────────────────┘"
            ]
          },
          "metadata": {},
          "output_type": "display_data"
        },
        {
          "name": "stdout",
          "output_type": "stream",
          "text": [
            "\n",
            "\n",
            "\n",
            " people_table_with_key table below:\n"
          ]
        },
        {
          "data": {
            "text/html": [
              "<div>\n",
              "<style scoped>\n",
              "    .dataframe tbody tr th:only-of-type {\n",
              "        vertical-align: middle;\n",
              "    }\n",
              "\n",
              "    .dataframe tbody tr th {\n",
              "        vertical-align: top;\n",
              "    }\n",
              "\n",
              "    .dataframe thead th {\n",
              "        text-align: right;\n",
              "    }\n",
              "</style>\n",
              "<table border=\"1\" class=\"dataframe\">\n",
              "  <thead>\n",
              "    <tr style=\"text-align: right;\">\n",
              "      <th></th>\n",
              "      <th>id</th>\n",
              "      <th>name</th>\n",
              "      <th>age</th>\n",
              "      <th>city</th>\n",
              "      <th>_dlt_load_id</th>\n",
              "      <th>_dlt_id</th>\n",
              "      <th>occupation</th>\n",
              "    </tr>\n",
              "  </thead>\n",
              "  <tbody>\n",
              "    <tr>\n",
              "      <th>0</th>\n",
              "      <td>1</td>\n",
              "      <td>Person_1</td>\n",
              "      <td>26</td>\n",
              "      <td>City_A</td>\n",
              "      <td>1712627552.328615</td>\n",
              "      <td>lXwuJyc4thW5tA</td>\n",
              "      <td>None</td>\n",
              "    </tr>\n",
              "    <tr>\n",
              "      <th>1</th>\n",
              "      <td>2</td>\n",
              "      <td>Person_2</td>\n",
              "      <td>27</td>\n",
              "      <td>City_A</td>\n",
              "      <td>1712627552.328615</td>\n",
              "      <td>aI0+p1ya/x6a6w</td>\n",
              "      <td>None</td>\n",
              "    </tr>\n",
              "    <tr>\n",
              "      <th>2</th>\n",
              "      <td>5</td>\n",
              "      <td>Person_5</td>\n",
              "      <td>35</td>\n",
              "      <td>City_B</td>\n",
              "      <td>1712627656.814548</td>\n",
              "      <td>sq+udSi7pITPyQ</td>\n",
              "      <td>Job_5</td>\n",
              "    </tr>\n",
              "    <tr>\n",
              "      <th>3</th>\n",
              "      <td>4</td>\n",
              "      <td>Person_4</td>\n",
              "      <td>34</td>\n",
              "      <td>City_B</td>\n",
              "      <td>1712627656.814548</td>\n",
              "      <td>svZpp/Vcl0Vq7w</td>\n",
              "      <td>Job_4</td>\n",
              "    </tr>\n",
              "    <tr>\n",
              "      <th>4</th>\n",
              "      <td>8</td>\n",
              "      <td>Person_8</td>\n",
              "      <td>38</td>\n",
              "      <td>City_B</td>\n",
              "      <td>1712627656.814548</td>\n",
              "      <td>a7qeCPLLWkBe2w</td>\n",
              "      <td>Job_8</td>\n",
              "    </tr>\n",
              "    <tr>\n",
              "      <th>5</th>\n",
              "      <td>3</td>\n",
              "      <td>Person_3</td>\n",
              "      <td>33</td>\n",
              "      <td>City_B</td>\n",
              "      <td>1712627656.814548</td>\n",
              "      <td>i1HPPQI37XtRrg</td>\n",
              "      <td>Job_3</td>\n",
              "    </tr>\n",
              "    <tr>\n",
              "      <th>6</th>\n",
              "      <td>6</td>\n",
              "      <td>Person_6</td>\n",
              "      <td>36</td>\n",
              "      <td>City_B</td>\n",
              "      <td>1712627656.814548</td>\n",
              "      <td>4U+T2dBuYj/gQg</td>\n",
              "      <td>Job_6</td>\n",
              "    </tr>\n",
              "    <tr>\n",
              "      <th>7</th>\n",
              "      <td>7</td>\n",
              "      <td>Person_7</td>\n",
              "      <td>37</td>\n",
              "      <td>City_B</td>\n",
              "      <td>1712627656.814548</td>\n",
              "      <td>gkvPoBmcWlYMWw</td>\n",
              "      <td>Job_7</td>\n",
              "    </tr>\n",
              "  </tbody>\n",
              "</table>\n",
              "</div>"
            ],
            "text/plain": [
              "   id      name  age    city       _dlt_load_id         _dlt_id occupation\n",
              "0   1  Person_1   26  City_A  1712627552.328615  lXwuJyc4thW5tA       None\n",
              "1   2  Person_2   27  City_A  1712627552.328615  aI0+p1ya/x6a6w       None\n",
              "2   5  Person_5   35  City_B  1712627656.814548  sq+udSi7pITPyQ      Job_5\n",
              "3   4  Person_4   34  City_B  1712627656.814548  svZpp/Vcl0Vq7w      Job_4\n",
              "4   8  Person_8   38  City_B  1712627656.814548  a7qeCPLLWkBe2w      Job_8\n",
              "5   3  Person_3   33  City_B  1712627656.814548  i1HPPQI37XtRrg      Job_3\n",
              "6   6  Person_6   36  City_B  1712627656.814548  4U+T2dBuYj/gQg      Job_6\n",
              "7   7  Person_7   37  City_B  1712627656.814548  gkvPoBmcWlYMWw      Job_7"
            ]
          },
          "metadata": {},
          "output_type": "display_data"
        }
      ],
      "source": [
        "# show outcome\n",
        "conn = duckdb.connect(f\"{people_pipeline_with_key.pipeline_name}.duckdb\")\n",
        "\n",
        "# let's see the tables\n",
        "conn.sql(f\"SET search_path = '{people_pipeline_with_key.dataset_name}'\")\n",
        "print('Loaded tables: ')\n",
        "display(conn.sql(\"show tables\"))\n",
        "\n",
        "# and the data\n",
        "\n",
        "print(\"\\n\\n\\n people_table_with_key table below:\")\n",
        "\n",
        "people_table = conn.sql(\"SELECT * FROM people_table_with_key\").df()\n",
        "display(people_table)"
      ]
    },
    {
      "cell_type": "code",
      "execution_count": 40,
      "metadata": {},
      "outputs": [
        {
          "data": {
            "text/plain": [
              "┌──────────┐\n",
              "│ sum(age) │\n",
              "│  int128  │\n",
              "├──────────┤\n",
              "│      266 │\n",
              "└──────────┘"
            ]
          },
          "execution_count": 40,
          "metadata": {},
          "output_type": "execute_result"
        }
      ],
      "source": [
        "conn.sql(\"select sum(age) from people_table_with_key\")"
      ]
    },
    {
      "cell_type": "markdown",
      "metadata": {
        "id": "PoTJu4kbGG0z"
      },
      "source": [
        "Questions? difficulties? We are here to help.\n",
        "- DTC data engineering course channel: https://datatalks-club.slack.com/archives/C01FABYF2RG\n",
        "- dlt's DTC cohort channel: https://dlthub-community.slack.com/archives/C06GAEX2VNX"
      ]
    }
  ],
  "metadata": {
    "colab": {
      "provenance": []
    },
    "kernelspec": {
      "display_name": "Python 3",
      "name": "python3"
    },
    "language_info": {
      "codemirror_mode": {
        "name": "ipython",
        "version": 3
      },
      "file_extension": ".py",
      "mimetype": "text/x-python",
      "name": "python",
      "nbconvert_exporter": "python",
      "pygments_lexer": "ipython3",
      "version": "3.12.2"
    }
  },
  "nbformat": 4,
  "nbformat_minor": 0
}
